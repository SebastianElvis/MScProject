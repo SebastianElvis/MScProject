{
 "cells": [
  {
   "cell_type": "code",
   "execution_count": 37,
   "metadata": {},
   "outputs": [],
   "source": [
    "import numpy as np\n",
    "import matplotlib\n",
    "from matplotlib import pyplot as plt\n",
    "import subprocess"
   ]
  },
  {
   "cell_type": "code",
   "execution_count": 38,
   "metadata": {},
   "outputs": [],
   "source": [
    "def readfile(i, col):\n",
    "    bash_command = \"cat dagger_result | grep \\\"^i = %d\\\" | grep %s | cut -d ' ' -f 7\" % (i, col)\n",
    "    res = subprocess.check_output(['bash','-c', bash_command])\n",
    "    res = res.split()\n",
    "    res = [float(i) for i in res]\n",
    "    return np.array(res)\n"
   ]
  },
  {
   "cell_type": "code",
   "execution_count": 41,
   "metadata": {},
   "outputs": [],
   "source": [
    "def get_data():\n",
    "    data = {\n",
    "        'init': {},\n",
    "        '0': [],\n",
    "        '4': []\n",
    "    }\n",
    "    data['init'] = readfile(0, 't1')\n",
    "    for i in [1,2,3]:\n",
    "        data['0'].append(readfile(0, 'ti'+str(i)))\n",
    "        data['4'].append(readfile(4, 'ti'+str(i)))\n",
    "    return data\n",
    "\n",
    "data = get_data()"
   ]
  },
  {
   "cell_type": "code",
   "execution_count": 40,
   "metadata": {},
   "outputs": [
    {
     "name": "stdout",
     "output_type": "stream",
     "text": [
      "[14046.057801536919, 1547.2375038807825, 100459.71273867198, 494.36087077867711, 3197.8878155188531, 197415.45110593713, 1047.1981212638771]\n",
      "[5113.4939245038022, 224.72555362461117, 21578.56146998296, 159.21127499291097, 576.72989271712083, 41821.206432870997, 272.74318904388144]\n"
     ]
    }
   ],
   "source": [
    "colors = matplotlib.cm.rainbow(np.linspace(0, 1, 7))\n",
    "#print colors\n",
    "\n",
    "def get_stackgraph(data):\n",
    "    fig = plt.figure(0, figsize=(8, 40))\n",
    "    ind = np.arange(7)\n",
    "    labels = ['Initialization', 'iter0ti1', 'iter0ti2', 'iter0ti3', 'iter4ti1', 'iter4ti2', 'iter4ti3']\n",
    "    # means\n",
    "    means = [\n",
    "        data['init'].mean()\n",
    "    ]\n",
    "    means.extend([x.mean() for x in data['0']])\n",
    "    means.extend([x.mean() for x in data['4']])\n",
    "    print means\n",
    "    \n",
    "    #stds\n",
    "    stds = [\n",
    "        data['init'].std()\n",
    "    ]\n",
    "    stds.extend([x.std() for x in data['0']])\n",
    "    stds.extend([x.std() for x in data['4']])\n",
    "    print stds\n",
    "    \n",
    "    for i in ind:\n",
    "        plt.bar(0, means[i], 0.5, yerr=stds[i], color=colors[i])\n",
    "    \n",
    "    plt.yticks(np.arange(0, 200000, 10000))\n",
    "    #plt.show()\n",
    "    \n",
    "    \n",
    "get_stackgraph(data)"
   ]
  },
  {
   "cell_type": "code",
   "execution_count": null,
   "metadata": {},
   "outputs": [],
   "source": []
  }
 ],
 "metadata": {
  "kernelspec": {
   "display_name": "Python 2",
   "language": "python",
   "name": "python2"
  },
  "language_info": {
   "codemirror_mode": {
    "name": "ipython",
    "version": 2
   },
   "file_extension": ".py",
   "mimetype": "text/x-python",
   "name": "python",
   "nbconvert_exporter": "python",
   "pygments_lexer": "ipython2",
   "version": "2.7.12"
  }
 },
 "nbformat": 4,
 "nbformat_minor": 2
}
